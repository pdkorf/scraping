{
 "cells": [
  {
   "cell_type": "markdown",
   "metadata": {},
   "source": [
    "# Het vinden van nieuwe huizen!! 😎"
   ]
  },
  {
   "cell_type": "markdown",
   "metadata": {},
   "source": [
    "## Importeren\n",
    "* Urllib biedt toegang tot html/url's\n",
    "* BeautifulSoup maakt van rauwe html (lange string) begrijpbare html die je kan doorzoeken\n",
    "* Pymongo is een library om met MongoDB te kunnen connecten\n",
    "* Datetime is een library die gemakkelijke toegang biedt tot datumformaten"
   ]
  },
  {
   "cell_type": "code",
   "execution_count": 1,
   "metadata": {},
   "outputs": [],
   "source": [
    "from urllib.request import urlopen\n",
    "from bs4 import BeautifulSoup\n",
    "import pymongo"
   ]
  },
  {
   "cell_type": "code",
   "execution_count": 2,
   "metadata": {},
   "outputs": [],
   "source": [
    "import datetime\n",
    "now = datetime.datetime.now()"
   ]
  },
  {
   "cell_type": "markdown",
   "metadata": {},
   "source": [
    "## CSV aanmaken\n",
    "Zoekresultaten kunnen opgeslagen worden in een CSV bestand. \n",
    "Open(csv-naam, \"w\") --> W staat voor write. Elke aanroep hiervan maakt het bestand opnieuw aan\n",
    "Kan ook A, dat is zegmaar de A van Aanvullen.\n",
    "\n",
    "Niet vergeten het bestand ook te sluiten. DUS: \n",
    "> CSV openen/aanmaken <br>\n",
    "> CSV schrijven <br>\n",
    "> CSV sluiten <br>"
   ]
  },
  {
   "cell_type": "code",
   "execution_count": 9,
   "metadata": {},
   "outputs": [],
   "source": [
    "#filenaam = \"huizen.csv\"\n",
    "#header = \"adres, postcode, Woonplaats, prijs, datum, link\\n\"\n",
    "\n",
    "#f = open(filenaam, \"w\")\n",
    "#f.write(header)\n",
    "#f.close()"
   ]
  },
  {
   "cell_type": "markdown",
   "metadata": {},
   "source": [
    "## nieuweHuizen(url)\n",
    "Functie nieuweHuizen voert, op invoer van een URL, de scraping uit.\n",
    "\n",
    "* bs maakt van de html leesbare html\n",
    "* divje zoekt alle \"a's\" met class-name property-inner en stopt deze in een lijst\n",
    "* van elke divje in de lijst zoeken we het adres, de postcode/woonplaats, de prijs, de datum van vinden en de prijs\n",
    "* deze gegevens tonen we hier in de notebook, én wordt weggeschreven in danwel een csv bestand, danwel een noSQL document (mongoDB)"
   ]
  },
  {
   "cell_type": "code",
   "execution_count": 3,
   "metadata": {},
   "outputs": [],
   "source": [
    "def nieuweHuizen(url):\n",
    "    html = urlopen(url)\n",
    "    bs = BeautifulSoup(html.read(), 'html.parser')\n",
    "    #print(bs.a)\n",
    "    divje = bs.findAll(\"a\", {\"class\" : \"property-inner\"})\n",
    "\n",
    "    #filenaam = \"huizen.csv\"\n",
    "    tijd = str(now.strftime(\"%Y %B %d\"))\n",
    "    \n",
    "    client = pymongo.MongoClient()\n",
    "    db = client.huis\n",
    "   \n",
    "    #f = open(filenaam, \"a\")\n",
    "\n",
    "    for dif in divje:\n",
    "        adress = dif.findAll(\"h2\", {\"class\":\"property-address-street\"})\n",
    "        adres = adress[0].text\n",
    "        zipWoonplaatss = dif.findAll(\"div\",{\"class\": \"property-address-zipcity\"})\n",
    "        zipWoonplaats = zipWoonplaatss[0].text \n",
    "        prijsFind = dif.findAll(\"div\",{\"class\": \"property-price\"})\n",
    "        prijs = prijsFind[0].text\n",
    "        link = dif[\"href\"]\n",
    "        print(link)\n",
    "        print(adres + \"\\n \" + zipWoonplaats.replace(\",  \", \" \") + \"\\n \" + prijs + \"\\n Gezien op: \" + tijd + \"\\n\" )\n",
    "        db.nieuwHuis.insert({\"adres\":adres, \"zipWoonplaats\":zipWoonplaats, \"prijs\":prijs, \"tijd\":tijd, \"link\":link})\n",
    "        #f.write(adres + \", \" + zipWoonplaats + \", \" + prijs + \", \" + tijd + \", \" + link + \"\\n\")\n",
    "        #print(dif)\n",
    "\n",
    "    #f.close()"
   ]
  },
  {
   "cell_type": "markdown",
   "metadata": {},
   "source": [
    "## Welke url???\n",
    "De gebruikte url's leiden naar Jaap.nl en tonen de nieuwste huizen van de afgelopen 24 uur, van Heiloo, Castricum én Beverwijk"
   ]
  },
  {
   "cell_type": "code",
   "execution_count": 4,
   "metadata": {},
   "outputs": [],
   "source": [
    "urlHeiloo = 'https://www.jaap.nl/koophuizen/noord+holland/alkmaar+en+omgeving/heiloo/1-dag'\n",
    "urlCastricum = 'https://www.jaap.nl/koophuizen/noord+holland/ijmond/castricum/1-dag'\n",
    "urlBeverwijk = 'https://www.jaap.nl/koophuizen/noord+holland/ijmond/beverwijk/1-dag'"
   ]
  },
  {
   "cell_type": "markdown",
   "metadata": {},
   "source": [
    "## Piece de la resistance\n",
    "De functie nieuweHuizen wordt uitgevoerd voor de URL's van Heiloo, Castricum én Beverwijk."
   ]
  },
  {
   "cell_type": "code",
   "execution_count": 6,
   "metadata": {
    "scrolled": false
   },
   "outputs": [
    {
     "name": "stdout",
     "output_type": "stream",
     "text": [
      "https://www.jaap.nl/te-koop/noord+holland/ijmond/beverwijk/1941gb/peperstraat+32/10645674/overzicht?search=/koophuizen/noord+holland/ijmond/beverwijk/1-dag\n",
      "Peperstraat 32\n",
      " 1941 GB Beverwijk\n",
      " € 189.500 k.k.\n",
      " Gezien op: 2019 February 19\n",
      "\n"
     ]
    },
    {
     "name": "stderr",
     "output_type": "stream",
     "text": [
      "C:\\Users\\p_kor\\Anaconda3\\lib\\site-packages\\ipykernel_launcher.py:25: DeprecationWarning: insert is deprecated. Use insert_one or insert_many instead.\n"
     ]
    }
   ],
   "source": [
    "nieuweHuizen(urlCastricum)\n",
    "nieuweHuizen(urlHeiloo)\n",
    "nieuweHuizen(urlBeverwijk)"
   ]
  },
  {
   "cell_type": "markdown",
   "metadata": {},
   "source": [
    "## En dan volgt het geprut in de marge..."
   ]
  },
  {
   "cell_type": "markdown",
   "metadata": {},
   "source": [
    "```\n",
    "html = urlopen('http://www.nu.nl')\n",
    "bs = BeautifulSoup(html.read(), 'html.parser')\n",
    "print(bs.h1)\n",
    "```"
   ]
  },
  {
   "cell_type": "markdown",
   "metadata": {
    "collapsed": true
   },
   "source": [
    "```\n",
    "#html = urlopen('https://www.funda.nl/koop/castricum/3-dagen')\n",
    "html = urlopen('http://www.telegraaf.nl/')\n",
    "bs = BeautifulSoup(html.read(), 'html.parser')\n",
    "print(bs.div)\n",
    "```"
   ]
  },
  {
   "cell_type": "markdown",
   "metadata": {
    "collapsed": true
   },
   "source": [
    "```\n",
    "import http.client\n",
    "\n",
    "connection = http.client.HTTPSConnection(\"www.funda.nl\")\n",
    "connection.request(\"GET\", \"/koop/castricum/3-dagen\")\n",
    "\n",
    "res = connection.getresponse()\n",
    "#data = res.read()\n",
    "bs = BeautifulSoup(res.read(), 'html.parser')\n",
    "print(bs)\n",
    "```"
   ]
  },
  {
   "cell_type": "markdown",
   "metadata": {
    "collapsed": true
   },
   "source": [
    "```\n",
    "html = urlopen('https://www.jaap.nl/koophuizen/noord+holland/ijmond/castricum/3-dagen')\n",
    "bs = BeautifulSoup(html.read(), 'html.parser')\n",
    "#print(bs.a)\n",
    "divje = bs.findAll(\"div\", {\"class\" : \"property\"})\n",
    "divver = divje[1].a.findAll(\"h2\", {\"class\":\"property-address-street\"})\n",
    "adres = divver[0].text\n",
    "#print(adres)\n",
    "print(divje)\n",
    "```"
   ]
  },
  {
   "cell_type": "markdown",
   "metadata": {},
   "source": [
    "```\n",
    "html = urlopen('https://www.jaap.nl/koophuizen/noord+holland/alkmaar+en+omgeving/heiloo/1-dag')\n",
    "bs = BeautifulSoup(html.read(), 'html.parser')\n",
    "#print(bs.a)\n",
    "divje = bs.findAll(\"a\", {\"class\" : \"property-inner\"})\n",
    "\n",
    "filenaam = \"huizen.csv\"\n",
    "#header = \"adres, postcode, Woonplaats, prijs, datum\\n\"\n",
    "tijd = str(now.strftime(\"%Y %B %d\"))\n",
    "\n",
    "#f = open(filenaam, \"w\")\n",
    "#f.write(header)\n",
    "f = open(filenaam, \"a\")\n",
    "\n",
    "for dif in divje:\n",
    "    adress = dif.findAll(\"h2\", {\"class\":\"property-address-street\"})\n",
    "    adres = adress[0].text\n",
    "    zipWoonplaatss = dif.findAll(\"div\",{\"class\": \"property-address-zipcity\"})\n",
    "    zipWoonplaats = zipWoonplaatss[0].text \n",
    "    prijsFind = dif.findAll(\"div\",{\"class\": \"property-price\"})\n",
    "    prijs = prijsFind[0].text\n",
    "    print(adres + \"\\n \" + zipWoonplaats.replace(\",  \", \" \") + \"\\n \" + prijs + \"\\n Gezien op: \" + tijd + \"\\n\" )\n",
    "    f.write(adres + \", \" + zipWoonplaats + \", \" + prijs + \", \" + tijd + \"\\n\")\n",
    "    #print(dif)\n",
    "\n",
    "f.close()\n",
    "```"
   ]
  }
 ],
 "metadata": {
  "kernelspec": {
   "display_name": "Python 3",
   "language": "python",
   "name": "python3"
  },
  "language_info": {
   "codemirror_mode": {
    "name": "ipython",
    "version": 3
   },
   "file_extension": ".py",
   "mimetype": "text/x-python",
   "name": "python",
   "nbconvert_exporter": "python",
   "pygments_lexer": "ipython3",
   "version": "3.7.2"
  }
 },
 "nbformat": 4,
 "nbformat_minor": 2
}
